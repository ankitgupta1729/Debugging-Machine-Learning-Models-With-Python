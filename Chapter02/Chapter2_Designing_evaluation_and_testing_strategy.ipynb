{
  "nbformat": 4,
  "nbformat_minor": 0,
  "metadata": {
    "colab": {
      "provenance": []
    },
    "kernelspec": {
      "name": "python3",
      "display_name": "Python 3"
    },
    "language_info": {
      "name": "python"
    }
  },
  "cells": [
    {
      "cell_type": "markdown",
      "source": [
        "# Chapter 2\n",
        "## Section: Designing evaluation and testing strategy\n",
        "Implementation of 5-fold cross-validation using k-nearest neighbour algorithm on scikit-learn's breast cancer datasets using ."
      ],
      "metadata": {
        "id": "uPWIms8bKICp"
      }
    },
    {
      "cell_type": "code",
      "execution_count": 2,
      "metadata": {
        "colab": {
          "base_uri": "https://localhost:8080/"
        },
        "id": "IvMUeNt5oQ5S",
        "outputId": "3a232a12-8b14-4d0c-ee29-a4e40efa67f5"
      },
      "outputs": [
        {
          "output_type": "stream",
          "name": "stdout",
          "text": [
            "Cross Validation Scores: [0.87558834 0.9379449  0.98473547 0.96922897 0.98036538]\n",
            "Average cross validation score: 0.9496\n"
          ]
        }
      ],
      "source": [
        "from sklearn.model_selection import cross_val_score,KFold\n",
        "from sklearn.neighbors import KNeighborsClassifier\n",
        "from sklearn.datasets import load_breast_cancer\n",
        "# loading breast cancer dataset\n",
        "X, y = load_breast_cancer(return_X_y=True)\n",
        "\n",
        "# definign the k-fold CV\n",
        "k_CV = KFold(n_splits=5)\n",
        "\n",
        "# initializaing a k nearest neighbour model\n",
        "knn = KNeighborsClassifier()\n",
        "\n",
        "# outputting validation performances using average precision across different folds of the designed CV\n",
        "scores = cross_val_score(estimator = knn, X = X, y = y, cv = k_CV, scoring = 'average_precision')\n",
        "print(\"Cross Validation Scores: {}\".format(scores))\n",
        "print(\"Average cross validation score: {}\".format(round(scores.mean(),4)))"
      ]
    }
  ]
}