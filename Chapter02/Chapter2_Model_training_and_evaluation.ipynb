{
  "nbformat": 4,
  "nbformat_minor": 0,
  "metadata": {
    "colab": {
      "provenance": []
    },
    "kernelspec": {
      "name": "python3",
      "display_name": "Python 3"
    },
    "language_info": {
      "name": "python"
    }
  },
  "cells": [
    {
      "cell_type": "markdown",
      "source": [
        "# Chapter 2\n",
        "## Section: Model training and evaluation\n",
        "Implementation of three steps of initialization, model training (i.e. fitting) and prediction for machine learning modeling using scikit-learn."
      ],
      "metadata": {
        "id": "17R4D8iEKo3G"
      }
    },
    {
      "cell_type": "code",
      "execution_count": 2,
      "metadata": {
        "colab": {
          "base_uri": "https://localhost:8080/"
        },
        "id": "dXuEng2oV6t7",
        "outputId": "5a990a36-b99d-4088-cf37-4b5dccc387ee"
      },
      "outputs": [
        {
          "output_type": "stream",
          "name": "stdout",
          "text": [
            "Confusion matrix of the predictions:\n",
            " [[ 58   3]\n",
            " [  2 108]]\n",
            "Balanced accuracy of the predictions: 0.9663\n"
          ]
        }
      ],
      "source": [
        "from sklearn.datasets import load_breast_cancer\n",
        "from sklearn.model_selection import train_test_split\n",
        "from sklearn import metrics\n",
        "\n",
        "# loading breast cancer dataset\n",
        "X, y = load_breast_cancer(return_X_y=True)\n",
        "X_train, X_test, y_train, y_test = train_test_split(X, y, test_size=0.30, random_state=5)\n",
        "\n",
        "from sklearn.ensemble import RandomForestClassifier\n",
        "# initializing a random forest model\n",
        "rf_model = RandomForestClassifier(n_estimators=10, max_features=10, max_depth=4)\n",
        "# training the random forest model using training set\n",
        "rf_model.fit(X_train, y_train)\n",
        "# predicting values of test set using the trained random forest model\n",
        "y_pred_rf = rf_model.predict(X_test)\n",
        "# assessing performance of the model on test set\n",
        "print(\"Confusion matrix of the predictions:\\n\", metrics.confusion_matrix(y_test, y_pred_rf))\n",
        "print(\"Balanced accuracy of the predictions:\", round(metrics.balanced_accuracy_score(y_test, y_pred_rf), 4))"
      ]
    },
    {
      "cell_type": "code",
      "source": [
        "from sklearn import cluster\n",
        "# initializing a random forest model\n",
        "kmeans_model = cluster.KMeans(n_clusters=2, n_init = 10)\n",
        "# training the kmeans clustering model using training set\n",
        "kmeans_model.fit(X_train)\n",
        "# assigning new observations, that are test set datapoints here, to the identified clusters\n",
        "y_pred_kmeans = kmeans_model.predict(X_test)\n",
        "\n",
        "print('Assigned clusters for each datapoint in test set: {}'.format(y_pred_kmeans))"
      ],
      "metadata": {
        "colab": {
          "base_uri": "https://localhost:8080/"
        },
        "id": "N3S5Y5F9rGNm",
        "outputId": "781feb8c-fb55-40c8-b792-daedb47bf08c"
      },
      "execution_count": 3,
      "outputs": [
        {
          "output_type": "stream",
          "name": "stdout",
          "text": [
            "Assigned clusters for each datapoint in test set: [0 1 1 1 1 0 1 1 1 1 1 1 0 1 1 1 1 1 1 1 1 1 1 1 1 1 1 0 1 0 0 0 1 0 1 1 0\n",
            " 1 1 0 1 1 1 0 1 1 1 0 1 0 1 1 1 1 1 0 1 0 1 0 1 1 1 1 1 1 1 1 1 0 1 0 1 1\n",
            " 1 1 1 1 0 1 0 1 1 1 1 1 0 1 1 0 0 0 1 1 0 0 1 1 1 1 1 0 1 1 1 0 1 0 1 1 1\n",
            " 0 1 0 1 1 0 1 0 1 1 1 0 1 0 1 0 1 1 0 1 1 1 1 1 0 1 1 1 1 1 1 1 0 1 1 1 0\n",
            " 1 1 1 1 1 1 1 0 1 1 1 1 1 1 1 1 0 0 1 1 1 1 1]\n"
          ]
        }
      ]
    }
  ]
}