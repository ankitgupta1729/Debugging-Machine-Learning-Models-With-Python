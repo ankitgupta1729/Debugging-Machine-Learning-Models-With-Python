{
  "nbformat": 4,
  "nbformat_minor": 0,
  "metadata": {
    "colab": {
      "provenance": []
    },
    "kernelspec": {
      "name": "python3",
      "display_name": "Python 3"
    },
    "language_info": {
      "name": "python"
    }
  },
  "cells": [
    {
      "cell_type": "markdown",
      "source": [
        "# Chapter 1\n",
        "## Section: Logging\n",
        "The following code examples show you how to use logging to capture and store information about issues in your Python code."
      ],
      "metadata": {
        "id": "s0SxT_c768J7"
      }
    },
    {
      "cell_type": "code",
      "execution_count": 1,
      "metadata": {
        "id": "d6bM9p0dGA3G",
        "colab": {
          "base_uri": "https://localhost:8080/"
        },
        "outputId": "3fd1202b-6cf3-47ce-999f-d833319dcbbc"
      },
      "outputs": [
        {
          "output_type": "stream",
          "name": "stderr",
          "text": [
            "ERROR:root:Input variables are not of type float or integer!\n",
            "ERROR:root:Input variables are not of type float or integer!\n"
          ]
        },
        {
          "output_type": "stream",
          "name": "stdout",
          "text": [
            "[9, 'nononononononono', 25, 'nononononononono', 9]\n"
          ]
        }
      ],
      "source": [
        "import logging\n",
        "\n",
        "def multiply(x: float, y: float):\n",
        "\n",
        "    \"\"\"\n",
        "\n",
        "    :param x: input variable of type float\n",
        "\n",
        "    :param y: input variable of type float\n",
        "\n",
        "    return: returning multiplications of\n",
        "\n",
        "    the input variables\n",
        "\n",
        "    \"\"\"\n",
        "\n",
        "    if not isinstance(x, (int, float)) or not isinstance(y, (int, float)):\n",
        "\n",
        "        logging.error('Input variables are not of type float or integer!')\n",
        "\n",
        "    z = x * y\n",
        "\n",
        "    return z\n",
        "\n",
        "def reverse_multiply(num_list: list):\n",
        "\n",
        "    \"\"\"\n",
        "\n",
        "    :param num_list: list of integers to be checked\n",
        "\n",
        "    for identifying odd numbers\n",
        "\n",
        "    :return: return a list containing element-wise multiplication\n",
        "\n",
        "     of the input list and its reverse\n",
        "\n",
        "    \"\"\"\n",
        "\n",
        "    logging.info(\"Length of {num_list} is {list_len}\".format(num_list=num_list, list_len = len(num_list)))\n",
        "\n",
        "    rev_list = num_list.copy()\n",
        "\n",
        "    rev_list.reverse()\n",
        "\n",
        "    mult_list = [multiply(num_list[iter], rev_list[iter]) for iter in range(0, len(num_list))]\n",
        "\n",
        "    return mult_list\n",
        "\n",
        "num_list = [1, 'no', 5, 8, 9]\n",
        "\n",
        "print(reverse_multiply(num_list))"
      ]
    }
  ]
}